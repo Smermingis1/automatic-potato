{
 "cells": [
  {
   "cell_type": "markdown",
   "id": "04277c54-4554-426a-a567-64526553e9a7",
   "metadata": {},
   "source": [
    "# Data Science Tools and Ecosystem"
   ]
  },
  {
   "cell_type": "markdown",
   "id": "44125b48-d865-4c49-813b-7485399517c9",
   "metadata": {},
   "source": [
    "In this notebook, Data Science Tools and Ecosystem are summarized."
   ]
  },
  {
   "cell_type": "markdown",
   "id": "4e62a185-8aa6-4971-be5a-198566d11c33",
   "metadata": {},
   "source": [
    "Some of the popular languages that Data Scientists use are:\n",
    "1. Python\n",
    "2. R\n",
    "3. Julia"
   ]
  },
  {
   "cell_type": "markdown",
   "id": "ea200810-7d06-449f-8725-1b46308c5c34",
   "metadata": {},
   "source": [
    "Some of the commonly used libraries used by Data Scientists include:\n",
    "1. Numpy\n",
    "2. Pandas\n",
    "3. Scikitlearn\n",
    "4. matplotlib"
   ]
  },
  {
   "cell_type": "markdown",
   "id": "3dd146dc-4d92-4e7a-b417-d53d250d34a4",
   "metadata": {},
   "source": [
    "| Data Science Tools       |\n",
    "|--------------------------|\n",
    "| RStudio                  |\n",
    "| Jupyter Notebook         |\n",
    "| Data Visualization tools |"
   ]
  },
  {
   "cell_type": "markdown",
   "id": "3df4735e-f905-4c36-9caa-55fe0a5e0dd2",
   "metadata": {},
   "source": [
    "### Below are a few examples of evaluating arithmetic expressions in Python."
   ]
  },
  {
   "cell_type": "code",
   "execution_count": 8,
   "id": "f5721820-2bcb-4a49-8ff0-d2890a7c085d",
   "metadata": {},
   "outputs": [
    {
     "data": {
      "text/plain": [
       "17"
      ]
     },
     "execution_count": 8,
     "metadata": {},
     "output_type": "execute_result"
    }
   ],
   "source": [
    "# This is a simple arithmetic expression to multiply then add integers.\n",
    "(3*4)+5"
   ]
  },
  {
   "cell_type": "code",
   "execution_count": 12,
   "id": "25d136be-c118-4bad-abb1-ba95001c396b",
   "metadata": {},
   "outputs": [
    {
     "data": {
      "text/plain": [
       "0.03333333333333333"
      ]
     },
     "execution_count": 12,
     "metadata": {},
     "output_type": "execute_result"
    }
   ],
   "source": [
    "#This will convert 200 minutes to hours by dividing by 60.\n",
    "20/600"
   ]
  },
  {
   "cell_type": "markdown",
   "id": "563e980f-aea3-4e80-bbc1-efb872351675",
   "metadata": {},
   "source": [
    "*Objectives*\n",
    "- List popular languages\n",
    "- List popular libraries\n",
    "- List popular data science tools\n",
    "- Show arithmetic equations|"
   ]
  },
  {
   "cell_type": "markdown",
   "id": "20163f59-3fec-4db9-bfa8-357e89f551f1",
   "metadata": {},
   "source": [
    "## Author\n",
    "Stephanos Mermingis"
   ]
  },
  {
   "cell_type": "code",
   "execution_count": null,
   "id": "26ce0654-0445-40eb-a2ca-15b5a1e228ba",
   "metadata": {},
   "outputs": [],
   "source": []
  }
 ],
 "metadata": {
  "kernelspec": {
   "display_name": "Python 3 (ipykernel)",
   "language": "python",
   "name": "python3"
  },
  "language_info": {
   "codemirror_mode": {
    "name": "ipython",
    "version": 3
   },
   "file_extension": ".py",
   "mimetype": "text/x-python",
   "name": "python",
   "nbconvert_exporter": "python",
   "pygments_lexer": "ipython3",
   "version": "3.12.8"
  }
 },
 "nbformat": 4,
 "nbformat_minor": 5
}
